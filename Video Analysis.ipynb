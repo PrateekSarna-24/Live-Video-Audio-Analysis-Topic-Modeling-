{
 "cells": [
  {
   "cell_type": "markdown",
   "id": "f4b1f942",
   "metadata": {},
   "source": [
    "## Live Video and Audio Analysis"
   ]
  },
  {
   "cell_type": "markdown",
   "id": "46810ed9",
   "metadata": {},
   "source": [
    "### Importing Libraries"
   ]
  },
  {
   "cell_type": "code",
   "execution_count": 5,
   "id": "2eca36de",
   "metadata": {},
   "outputs": [],
   "source": [
    "import cv2 as cv\n",
    "import os\n",
    "import librosa\n",
    "from librosa.display import waveshow\n",
    "from IPython.display import Audio\n",
    "import matplotlib.pyplot as plt\n",
    "import numpy as np\n",
    "import pandas as pd\n",
    "from scipy.io import wavfile\n",
    "import warnings\n",
    "from sklearn.model_selection import train_test_split\n",
    "import keras\n",
    "from keras.utils import to_categorical\n",
    "from keras.models import Sequential\n",
    "from keras.layers import Dense, Flatten, Dropout, Conv2D, MaxPooling2D, Conv1D, MaxPooling1D, Conv3D\n",
    "from sklearn.metrics import classification_report, confusion_matrix, accuracy_score\n",
    "from sklearn.metrics import classification_report, confusion_matrix, accuracy_score\n",
    "import seaborn as sns\n",
    "from librosa.feature import melspectrogram\n",
    "import visualkeras\n",
    "import pydot_ng\n",
    "import pydotplus\n",
    "import graphviz\n",
    "warnings.filterwarnings('ignore')"
   ]
  },
  {
   "cell_type": "markdown",
   "id": "03700efb",
   "metadata": {},
   "source": [
    "#### Main Data Directory Path"
   ]
  },
  {
   "cell_type": "code",
   "execution_count": 9,
   "id": "5fe18d15",
   "metadata": {},
   "outputs": [],
   "source": [
    "main_data_dir_path = 'UCF-101'"
   ]
  },
  {
   "cell_type": "markdown",
   "id": "1fb4c1c0",
   "metadata": {},
   "source": [
    "### Essential Functions "
   ]
  },
  {
   "cell_type": "code",
   "execution_count": 58,
   "id": "52027423",
   "metadata": {},
   "outputs": [],
   "source": [
    "def get_video_frames(capture) :\n",
    "    video = []\n",
    "    while True :\n",
    "        frame = capture.read()[1]\n",
    "        if np.any(frame == None) :\n",
    "            break\n",
    "        else :\n",
    "            video.append(frame)\n",
    "    return video"
   ]
  },
  {
   "cell_type": "code",
   "execution_count": 59,
   "id": "cd50910e",
   "metadata": {},
   "outputs": [],
   "source": [
    "def get_metadata(data_dir) :\n",
    "    metadata = []\n",
    "    for class_folder in os.listdir(data_dir) :\n",
    "        class_target = class_folder\n",
    "        for video_file in os.listdir(os.path.join(data_dir,class_folder)) :\n",
    "            metadata.append((os.path.join(os.path.join(data_dir,class_folder), video_file), class_target))\n",
    "    return pd.DataFrame(metadata, columns = ['File Name', 'Class_Target'])"
   ]
  },
  {
   "cell_type": "code",
   "execution_count": 60,
   "id": "10dde5a7",
   "metadata": {},
   "outputs": [],
   "source": [
    "def get_limited_data(metadata) :\n",
    "    needed_class = ['WritingOnBoard', 'WallPushups']\n",
    "    limited_data = []\n",
    "    \n",
    "    for class_ in needed_class :\n",
    "        df = metadata[metadata['Class_Target'] == class_]\n",
    "        limited_data.append(df.values)\n",
    "    \n",
    "    new_data = []\n",
    "    for each_class in limited_data:\n",
    "        for each_file_and_class in each_class :\n",
    "            new_data.append(each_file_and_class)\n",
    "    \n",
    "    return pd.DataFrame(new_data, columns = ['File Name', 'Class_Target'])"
   ]
  },
  {
   "cell_type": "code",
   "execution_count": 61,
   "id": "d4e7b5b7",
   "metadata": {},
   "outputs": [],
   "source": [
    "def get_all_videos_in_frame_format(video_dataframe) :\n",
    "    video_files = video_dataframe['File Name']\n",
    "    video_files_loaded = []\n",
    "    \n",
    "    for video_file in video_files :\n",
    "        capture = cv.VideoCapture(video_file)\n",
    "        video = get_video_frames(capture)\n",
    "        video_files_loaded.append(video)\n",
    "    \n",
    "    return video_files_loaded"
   ]
  },
  {
   "cell_type": "markdown",
   "id": "928ac1d7",
   "metadata": {},
   "source": [
    "#### Main"
   ]
  },
  {
   "cell_type": "code",
   "execution_count": 62,
   "id": "58995e25",
   "metadata": {},
   "outputs": [],
   "source": [
    "metadata = get_metadata(main_data_dir_path)\n",
    "limited_data = get_limited_data(metadata)\n",
    "Video_Data = get_all_videos_in_frame_format(limited_data)"
   ]
  },
  {
   "cell_type": "code",
   "execution_count": null,
   "id": "d3816361",
   "metadata": {},
   "outputs": [],
   "source": [
    "cap = cv.VideoCapture(0)\n",
    "if not cap.isOpened():\n",
    "    print(\"Error opening video stream or file\")\n",
    "while True:\n",
    "    ret, frame = cap.read()\n",
    "    \n",
    "    if np.all(frame == None) :\n",
    "        break\n",
    "    print(frame)\n",
    "cap.release()\n",
    "cv.destroyAllWindows()"
   ]
  }
 ],
 "metadata": {
  "kernelspec": {
   "display_name": "Python 3 (ipykernel)",
   "language": "python",
   "name": "python3"
  },
  "language_info": {
   "codemirror_mode": {
    "name": "ipython",
    "version": 3
   },
   "file_extension": ".py",
   "mimetype": "text/x-python",
   "name": "python",
   "nbconvert_exporter": "python",
   "pygments_lexer": "ipython3",
   "version": "3.11.5"
  }
 },
 "nbformat": 4,
 "nbformat_minor": 5
}
